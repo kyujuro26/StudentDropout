{
 "cells": [
  {
   "cell_type": "code",
   "execution_count": 9,
   "id": "2955622b",
   "metadata": {},
   "outputs": [],
   "source": [
    "import pandas as pd\n",
    "import numpy as np\n",
    "import matplotlib.pyplot as plt"
   ]
  },
  {
   "cell_type": "code",
   "execution_count": 10,
   "id": "ae02c619",
   "metadata": {},
   "outputs": [
    {
     "data": {
      "text/html": [
       "<div>\n",
       "<style scoped>\n",
       "    .dataframe tbody tr th:only-of-type {\n",
       "        vertical-align: middle;\n",
       "    }\n",
       "\n",
       "    .dataframe tbody tr th {\n",
       "        vertical-align: top;\n",
       "    }\n",
       "\n",
       "    .dataframe thead th {\n",
       "        text-align: right;\n",
       "    }\n",
       "</style>\n",
       "<table border=\"1\" class=\"dataframe\">\n",
       "  <thead>\n",
       "    <tr style=\"text-align: right;\">\n",
       "      <th></th>\n",
       "      <th>Branch</th>\n",
       "      <th>Semester</th>\n",
       "      <th>Adaptability</th>\n",
       "      <th>TimeManagement</th>\n",
       "      <th>Curiosity</th>\n",
       "      <th>Integration</th>\n",
       "      <th>Versatality</th>\n",
       "      <th>Scheduling</th>\n",
       "      <th>Efficiency</th>\n",
       "      <th>Multitasking</th>\n",
       "      <th>...</th>\n",
       "      <th>Empathy</th>\n",
       "      <th>Resilience</th>\n",
       "      <th>Feedback</th>\n",
       "      <th>SelfCare</th>\n",
       "      <th>Resourcefulness</th>\n",
       "      <th>FinancialConstraint</th>\n",
       "      <th>Wellness</th>\n",
       "      <th>Stability</th>\n",
       "      <th>Hardship</th>\n",
       "      <th>Result</th>\n",
       "    </tr>\n",
       "  </thead>\n",
       "  <tbody>\n",
       "    <tr>\n",
       "      <th>0</th>\n",
       "      <td>Mca</td>\n",
       "      <td>3</td>\n",
       "      <td>1</td>\n",
       "      <td>1</td>\n",
       "      <td>2</td>\n",
       "      <td>2</td>\n",
       "      <td>1</td>\n",
       "      <td>1</td>\n",
       "      <td>1</td>\n",
       "      <td>1</td>\n",
       "      <td>...</td>\n",
       "      <td>2</td>\n",
       "      <td>2</td>\n",
       "      <td>1</td>\n",
       "      <td>2</td>\n",
       "      <td>2</td>\n",
       "      <td>2</td>\n",
       "      <td>1</td>\n",
       "      <td>2</td>\n",
       "      <td>1</td>\n",
       "      <td>42</td>\n",
       "    </tr>\n",
       "    <tr>\n",
       "      <th>1</th>\n",
       "      <td>Int.Mca</td>\n",
       "      <td>9</td>\n",
       "      <td>3</td>\n",
       "      <td>3</td>\n",
       "      <td>1</td>\n",
       "      <td>1</td>\n",
       "      <td>0</td>\n",
       "      <td>1</td>\n",
       "      <td>0</td>\n",
       "      <td>2</td>\n",
       "      <td>...</td>\n",
       "      <td>1</td>\n",
       "      <td>1</td>\n",
       "      <td>1</td>\n",
       "      <td>2</td>\n",
       "      <td>1</td>\n",
       "      <td>1</td>\n",
       "      <td>3</td>\n",
       "      <td>1</td>\n",
       "      <td>1</td>\n",
       "      <td>34</td>\n",
       "    </tr>\n",
       "    <tr>\n",
       "      <th>2</th>\n",
       "      <td>Int.Mca</td>\n",
       "      <td>9</td>\n",
       "      <td>2</td>\n",
       "      <td>2</td>\n",
       "      <td>1</td>\n",
       "      <td>0</td>\n",
       "      <td>0</td>\n",
       "      <td>0</td>\n",
       "      <td>0</td>\n",
       "      <td>2</td>\n",
       "      <td>...</td>\n",
       "      <td>0</td>\n",
       "      <td>0</td>\n",
       "      <td>2</td>\n",
       "      <td>1</td>\n",
       "      <td>1</td>\n",
       "      <td>2</td>\n",
       "      <td>2</td>\n",
       "      <td>2</td>\n",
       "      <td>0</td>\n",
       "      <td>25</td>\n",
       "    </tr>\n",
       "    <tr>\n",
       "      <th>3</th>\n",
       "      <td>Int.Mca</td>\n",
       "      <td>9</td>\n",
       "      <td>2</td>\n",
       "      <td>1</td>\n",
       "      <td>3</td>\n",
       "      <td>2</td>\n",
       "      <td>1</td>\n",
       "      <td>0</td>\n",
       "      <td>2</td>\n",
       "      <td>0</td>\n",
       "      <td>...</td>\n",
       "      <td>0</td>\n",
       "      <td>2</td>\n",
       "      <td>2</td>\n",
       "      <td>0</td>\n",
       "      <td>3</td>\n",
       "      <td>3</td>\n",
       "      <td>0</td>\n",
       "      <td>0</td>\n",
       "      <td>1</td>\n",
       "      <td>31</td>\n",
       "    </tr>\n",
       "    <tr>\n",
       "      <th>4</th>\n",
       "      <td>Int.Mca</td>\n",
       "      <td>9</td>\n",
       "      <td>3</td>\n",
       "      <td>3</td>\n",
       "      <td>3</td>\n",
       "      <td>1</td>\n",
       "      <td>3</td>\n",
       "      <td>1</td>\n",
       "      <td>2</td>\n",
       "      <td>1</td>\n",
       "      <td>...</td>\n",
       "      <td>2</td>\n",
       "      <td>1</td>\n",
       "      <td>1</td>\n",
       "      <td>1</td>\n",
       "      <td>1</td>\n",
       "      <td>1</td>\n",
       "      <td>1</td>\n",
       "      <td>1</td>\n",
       "      <td>0</td>\n",
       "      <td>40</td>\n",
       "    </tr>\n",
       "  </tbody>\n",
       "</table>\n",
       "<p>5 rows × 29 columns</p>\n",
       "</div>"
      ],
      "text/plain": [
       "    Branch  Semester  Adaptability  TimeManagement  Curiosity  Integration  \\\n",
       "0      Mca         3             1               1          2            2   \n",
       "1  Int.Mca         9             3               3          1            1   \n",
       "2  Int.Mca         9             2               2          1            0   \n",
       "3  Int.Mca         9             2               1          3            2   \n",
       "4  Int.Mca         9             3               3          3            1   \n",
       "\n",
       "   Versatality  Scheduling  Efficiency  Multitasking  ...  Empathy  \\\n",
       "0            1           1           1             1  ...        2   \n",
       "1            0           1           0             2  ...        1   \n",
       "2            0           0           0             2  ...        0   \n",
       "3            1           0           2             0  ...        0   \n",
       "4            3           1           2             1  ...        2   \n",
       "\n",
       "   Resilience  Feedback  SelfCare  Resourcefulness  FinancialConstraint  \\\n",
       "0           2         1         2                2                    2   \n",
       "1           1         1         2                1                    1   \n",
       "2           0         2         1                1                    2   \n",
       "3           2         2         0                3                    3   \n",
       "4           1         1         1                1                    1   \n",
       "\n",
       "   Wellness  Stability  Hardship  Result  \n",
       "0         1          2         1      42  \n",
       "1         3          1         1      34  \n",
       "2         2          2         0      25  \n",
       "3         0          0         1      31  \n",
       "4         1          1         0      40  \n",
       "\n",
       "[5 rows x 29 columns]"
      ]
     },
     "execution_count": 10,
     "metadata": {},
     "output_type": "execute_result"
    }
   ],
   "source": [
    "df = pd.read_csv('C:/Users/Incredible-PC/Documents/encoded_dataset1.csv')\n",
    "df.head()"
   ]
  },
  {
   "cell_type": "code",
   "execution_count": 11,
   "id": "b02147f7",
   "metadata": {},
   "outputs": [],
   "source": [
    "# Define the conditions\n",
    "condition_graduate = (df['Result'] >= 55)  # Assuming 70 or above is considered as passing for \"Graduate\"\n",
    "condition_fail = (df['Result'] > 30) & (df['Result'] < 55)  # Assuming between 50 and 69 is \"Fail but not Dropout\"\n",
    "condition_dropout = (df['Result'] <= 30)  # Assuming below 50 is \"Dropout\"\n",
    "\n",
    "# Assign labels based on conditions\n",
    "df['Result_new'] = 'Undetermined'  # Create a new column for the labels, initialized as 'Undetermined'\n",
    "\n",
    "df.loc[condition_graduate, 'Result_new'] = 'Graduate'\n",
    "df.loc[condition_fail, 'Result_new'] = 'Fail but not Dropout'\n",
    "df.loc[condition_dropout, 'Result_new'] = 'Dropout'\n",
    "\n",
    "# 'Result' column will now contain the labels based on the conditions"
   ]
  },
  {
   "cell_type": "code",
   "execution_count": 12,
   "id": "3a407d3e",
   "metadata": {},
   "outputs": [
    {
     "data": {
      "text/html": [
       "<div>\n",
       "<style scoped>\n",
       "    .dataframe tbody tr th:only-of-type {\n",
       "        vertical-align: middle;\n",
       "    }\n",
       "\n",
       "    .dataframe tbody tr th {\n",
       "        vertical-align: top;\n",
       "    }\n",
       "\n",
       "    .dataframe thead th {\n",
       "        text-align: right;\n",
       "    }\n",
       "</style>\n",
       "<table border=\"1\" class=\"dataframe\">\n",
       "  <thead>\n",
       "    <tr style=\"text-align: right;\">\n",
       "      <th></th>\n",
       "      <th>Branch</th>\n",
       "      <th>Semester</th>\n",
       "      <th>Adaptability</th>\n",
       "      <th>TimeManagement</th>\n",
       "      <th>Curiosity</th>\n",
       "      <th>Integration</th>\n",
       "      <th>Versatality</th>\n",
       "      <th>Scheduling</th>\n",
       "      <th>Efficiency</th>\n",
       "      <th>Multitasking</th>\n",
       "      <th>...</th>\n",
       "      <th>Resilience</th>\n",
       "      <th>Feedback</th>\n",
       "      <th>SelfCare</th>\n",
       "      <th>Resourcefulness</th>\n",
       "      <th>FinancialConstraint</th>\n",
       "      <th>Wellness</th>\n",
       "      <th>Stability</th>\n",
       "      <th>Hardship</th>\n",
       "      <th>Result</th>\n",
       "      <th>Result_new</th>\n",
       "    </tr>\n",
       "  </thead>\n",
       "  <tbody>\n",
       "    <tr>\n",
       "      <th>0</th>\n",
       "      <td>Mca</td>\n",
       "      <td>3</td>\n",
       "      <td>1</td>\n",
       "      <td>1</td>\n",
       "      <td>2</td>\n",
       "      <td>2</td>\n",
       "      <td>1</td>\n",
       "      <td>1</td>\n",
       "      <td>1</td>\n",
       "      <td>1</td>\n",
       "      <td>...</td>\n",
       "      <td>2</td>\n",
       "      <td>1</td>\n",
       "      <td>2</td>\n",
       "      <td>2</td>\n",
       "      <td>2</td>\n",
       "      <td>1</td>\n",
       "      <td>2</td>\n",
       "      <td>1</td>\n",
       "      <td>42</td>\n",
       "      <td>Fail but not Dropout</td>\n",
       "    </tr>\n",
       "    <tr>\n",
       "      <th>1</th>\n",
       "      <td>Int.Mca</td>\n",
       "      <td>9</td>\n",
       "      <td>3</td>\n",
       "      <td>3</td>\n",
       "      <td>1</td>\n",
       "      <td>1</td>\n",
       "      <td>0</td>\n",
       "      <td>1</td>\n",
       "      <td>0</td>\n",
       "      <td>2</td>\n",
       "      <td>...</td>\n",
       "      <td>1</td>\n",
       "      <td>1</td>\n",
       "      <td>2</td>\n",
       "      <td>1</td>\n",
       "      <td>1</td>\n",
       "      <td>3</td>\n",
       "      <td>1</td>\n",
       "      <td>1</td>\n",
       "      <td>34</td>\n",
       "      <td>Fail but not Dropout</td>\n",
       "    </tr>\n",
       "    <tr>\n",
       "      <th>2</th>\n",
       "      <td>Int.Mca</td>\n",
       "      <td>9</td>\n",
       "      <td>2</td>\n",
       "      <td>2</td>\n",
       "      <td>1</td>\n",
       "      <td>0</td>\n",
       "      <td>0</td>\n",
       "      <td>0</td>\n",
       "      <td>0</td>\n",
       "      <td>2</td>\n",
       "      <td>...</td>\n",
       "      <td>0</td>\n",
       "      <td>2</td>\n",
       "      <td>1</td>\n",
       "      <td>1</td>\n",
       "      <td>2</td>\n",
       "      <td>2</td>\n",
       "      <td>2</td>\n",
       "      <td>0</td>\n",
       "      <td>25</td>\n",
       "      <td>Dropout</td>\n",
       "    </tr>\n",
       "    <tr>\n",
       "      <th>3</th>\n",
       "      <td>Int.Mca</td>\n",
       "      <td>9</td>\n",
       "      <td>2</td>\n",
       "      <td>1</td>\n",
       "      <td>3</td>\n",
       "      <td>2</td>\n",
       "      <td>1</td>\n",
       "      <td>0</td>\n",
       "      <td>2</td>\n",
       "      <td>0</td>\n",
       "      <td>...</td>\n",
       "      <td>2</td>\n",
       "      <td>2</td>\n",
       "      <td>0</td>\n",
       "      <td>3</td>\n",
       "      <td>3</td>\n",
       "      <td>0</td>\n",
       "      <td>0</td>\n",
       "      <td>1</td>\n",
       "      <td>31</td>\n",
       "      <td>Fail but not Dropout</td>\n",
       "    </tr>\n",
       "    <tr>\n",
       "      <th>4</th>\n",
       "      <td>Int.Mca</td>\n",
       "      <td>9</td>\n",
       "      <td>3</td>\n",
       "      <td>3</td>\n",
       "      <td>3</td>\n",
       "      <td>1</td>\n",
       "      <td>3</td>\n",
       "      <td>1</td>\n",
       "      <td>2</td>\n",
       "      <td>1</td>\n",
       "      <td>...</td>\n",
       "      <td>1</td>\n",
       "      <td>1</td>\n",
       "      <td>1</td>\n",
       "      <td>1</td>\n",
       "      <td>1</td>\n",
       "      <td>1</td>\n",
       "      <td>1</td>\n",
       "      <td>0</td>\n",
       "      <td>40</td>\n",
       "      <td>Fail but not Dropout</td>\n",
       "    </tr>\n",
       "  </tbody>\n",
       "</table>\n",
       "<p>5 rows × 30 columns</p>\n",
       "</div>"
      ],
      "text/plain": [
       "    Branch  Semester  Adaptability  TimeManagement  Curiosity  Integration  \\\n",
       "0      Mca         3             1               1          2            2   \n",
       "1  Int.Mca         9             3               3          1            1   \n",
       "2  Int.Mca         9             2               2          1            0   \n",
       "3  Int.Mca         9             2               1          3            2   \n",
       "4  Int.Mca         9             3               3          3            1   \n",
       "\n",
       "   Versatality  Scheduling  Efficiency  Multitasking  ...  Resilience  \\\n",
       "0            1           1           1             1  ...           2   \n",
       "1            0           1           0             2  ...           1   \n",
       "2            0           0           0             2  ...           0   \n",
       "3            1           0           2             0  ...           2   \n",
       "4            3           1           2             1  ...           1   \n",
       "\n",
       "   Feedback  SelfCare  Resourcefulness  FinancialConstraint  Wellness  \\\n",
       "0         1         2                2                    2         1   \n",
       "1         1         2                1                    1         3   \n",
       "2         2         1                1                    2         2   \n",
       "3         2         0                3                    3         0   \n",
       "4         1         1                1                    1         1   \n",
       "\n",
       "   Stability  Hardship  Result            Result_new  \n",
       "0          2         1      42  Fail but not Dropout  \n",
       "1          1         1      34  Fail but not Dropout  \n",
       "2          2         0      25               Dropout  \n",
       "3          0         1      31  Fail but not Dropout  \n",
       "4          1         0      40  Fail but not Dropout  \n",
       "\n",
       "[5 rows x 30 columns]"
      ]
     },
     "execution_count": 12,
     "metadata": {},
     "output_type": "execute_result"
    }
   ],
   "source": [
    "df.head()"
   ]
  },
  {
   "cell_type": "code",
   "execution_count": 13,
   "id": "6f1ae994",
   "metadata": {},
   "outputs": [
    {
     "data": {
      "text/plain": [
       "Index(['Branch', 'Semester', 'Adaptability', 'TimeManagement', 'Curiosity',\n",
       "       'Integration', 'Versatality', 'Scheduling', 'Efficiency',\n",
       "       'Multitasking', 'Consistency', 'Participation', 'ExtraActivities',\n",
       "       'Engagement', 'Collaboration', 'Balance', 'Cooperation',\n",
       "       'ConflictResolution', 'Synergy', 'Empathy', 'Resilience', 'Feedback',\n",
       "       'SelfCare', 'Resourcefulness', 'FinancialConstraint', 'Wellness',\n",
       "       'Stability', 'Hardship', 'Result', 'Result_new'],\n",
       "      dtype='object')"
      ]
     },
     "execution_count": 13,
     "metadata": {},
     "output_type": "execute_result"
    }
   ],
   "source": [
    "df.columns"
   ]
  },
  {
   "cell_type": "code",
   "execution_count": 14,
   "id": "3743394b",
   "metadata": {},
   "outputs": [],
   "source": [
    "from sklearn.preprocessing import LabelEncoder\n",
    "\n",
    "# Assuming 'df' is your DataFrame and 'Result' is the column to label encode\n",
    "# Replace 'df' and 'Result' with your actual DataFrame and column names\n",
    "\n",
    "label_encoder = LabelEncoder()\n",
    "df['Result_Encoded'] = label_encoder.fit_transform(df['Result_new'])\n",
    "\n",
    "# 'Result_Encoded' column will now contain the encoded labels for 'Result'\n",
    "# The original 'Result' column will remain unchanged\n"
   ]
  },
  {
   "cell_type": "code",
   "execution_count": 15,
   "id": "e9b03cab",
   "metadata": {},
   "outputs": [],
   "source": [
    "col = ['Result', 'Result_new']\n",
    "df.drop(columns=col , inplace=True)"
   ]
  },
  {
   "cell_type": "code",
   "execution_count": 16,
   "id": "9cfcf6af",
   "metadata": {},
   "outputs": [
    {
     "name": "stdout",
     "output_type": "stream",
     "text": [
      "Feature: Semester, F-score: 0.9353314525627894, p-value: 0.3941740938956012\n",
      "Feature: Adaptability, F-score: 14.353254393729753, p-value: 1.5032262597741334e-06\n",
      "Feature: TimeManagement, F-score: 35.92770978898875, p-value: 4.7697638938593386e-14\n",
      "Feature: Curiosity, F-score: 33.84922010836668, p-value: 2.2225102246206488e-13\n",
      "Feature: Integration, F-score: 24.771407284269042, p-value: 2.4743463970527264e-10\n",
      "Feature: Versatality, F-score: 28.8305498467187, p-value: 1.0105459278119535e-11\n",
      "Feature: Scheduling, F-score: 44.60245804961168, p-value: 9.899045866314901e-17\n",
      "Feature: Efficiency, F-score: 26.41851308571715, p-value: 6.675482497260511e-11\n",
      "Feature: Multitasking, F-score: 27.279342113009708, p-value: 3.388998700033567e-11\n",
      "Feature: Consistency, F-score: 52.15396653475439, p-value: 6.143926861738187e-19\n",
      "Feature: Participation, F-score: 23.346175941123473, p-value: 7.796741955220347e-10\n",
      "Feature: ExtraActivities, F-score: 24.197981637370763, p-value: 3.920274741551937e-10\n",
      "Feature: Engagement, F-score: 40.474724493980155, p-value: 1.7842643913980204e-15\n",
      "Feature: Collaboration, F-score: 27.5376528104844, p-value: 2.767685036702858e-11\n",
      "Feature: Balance, F-score: 58.87507672152435, p-value: 8.214026992713297e-21\n",
      "Feature: Cooperation, F-score: 22.797977341410256, p-value: 1.2166866187238505e-09\n",
      "Feature: ConflictResolution, F-score: 42.7101663437979, p-value: 3.6880552160440887e-16\n",
      "Feature: Synergy, F-score: 23.84193439752136, p-value: 5.222475175579911e-10\n",
      "Feature: Empathy, F-score: 28.812826788296746, p-value: 1.0245290862131373e-11\n",
      "Feature: Resilience, F-score: 35.464578021466856, p-value: 6.706969284255023e-14\n",
      "Feature: Feedback, F-score: 22.467603439714125, p-value: 1.5924644326010876e-09\n",
      "Feature: SelfCare, F-score: 23.695414278269954, p-value: 5.878135234923957e-10\n",
      "Feature: Resourcefulness, F-score: 29.517086086960717, p-value: 5.94288404792804e-12\n",
      "Feature: FinancialConstraint, F-score: 22.768227905388798, p-value: 1.2464979328632394e-09\n",
      "Feature: Wellness, F-score: 25.279465080687594, p-value: 1.6487550645548954e-10\n",
      "Feature: Stability, F-score: 7.219563149040875, p-value: 0.0009399714701599116\n",
      "Feature: Hardship, F-score: 11.399622000715418, p-value: 2.055204207787212e-05\n"
     ]
    },
    {
     "data": {
      "image/png": "[encoded data removed]",
      "text/plain": [
       "<Figure size 1008x504 with 2 Axes>"
      ]
     },
     "metadata": {
      "needs_background": "light"
     },
     "output_type": "display_data"
    }
   ],
   "source": [
    "from sklearn.feature_selection import f_classif\n",
    "\n",
    "\n",
    "# Assuming 'data' is your DataFrame containing the columns\n",
    "# Replace the column names as per your dataset\n",
    "columns_for_anova = ['Branch', 'Semester', 'Adaptability', 'TimeManagement', 'Curiosity',\n",
    "                     'Integration', 'Versatality', 'Scheduling', 'Efficiency',\n",
    "                     'Multitasking', 'Consistency', 'Participation', 'ExtraActivities',\n",
    "                     'Engagement', 'Collaboration', 'Balance', 'Cooperation',\n",
    "                     'ConflictResolution', 'Synergy', 'Empathy', 'Resilience', 'Feedback',\n",
    "                     'SelfCare', 'Resourcefulness', 'FinancialConstraint', 'Wellness',\n",
    "                     'Stability', 'Hardship', 'Result_Encoded']\n",
    "\n",
    "# Select columns for ANOVA from the dataset\n",
    "X_anova = df[columns_for_anova]\n",
    "\n",
    "# Compute variance\n",
    "variances = X_anova.var()\n",
    "\n",
    "# Filter columns with non-zero variance\n",
    "non_constant_columns = variances[variances != 0].index\n",
    "X_anova_filtered = X_anova[non_constant_columns]\n",
    "\n",
    "# Separate the features and the target variable\n",
    "X = X_anova_filtered.drop('Result_Encoded', axis=1)  # Features\n",
    "y = X_anova_filtered['Result_Encoded']  # Target variable\n",
    "\n",
    "# Perform ANOVA F-test\n",
    "f_scores, p_values = f_classif(X, y)\n",
    "\n",
    "# Print F-scores and p-values for each feature\n",
    "for i, col in enumerate(X.columns):\n",
    "    print(f\"Feature: {col}, F-score: {f_scores[i]}, p-value: {p_values[i]}\")\n",
    "    \n",
    "    \n",
    "plt.figure(figsize=(14, 7))   \n",
    "plt.subplot(1, 2, 1)\n",
    "plt.bar(range(len(f_scores)), f_scores, color='skyblue')\n",
    "plt.xlabel('Features')\n",
    "plt.ylabel('F-scores')\n",
    "plt.title('ANOVA F-scores for Each Feature')\n",
    "plt.xticks(range(len(f_scores)), X.columns, rotation=90)\n",
    "plt.tight_layout()\n",
    "\n",
    "# Plot p-values\n",
    "plt.subplot(1, 2, 2)\n",
    "plt.bar(range(len(p_values)), -1 * np.log10(p_values), color='salmon')  # Negative log transformation for better visualization\n",
    "plt.xlabel('Features')\n",
    "plt.ylabel('-log10(p-values)')\n",
    "plt.title('Negative Log Transformed p-values for Each Feature')\n",
    "plt.xticks(range(len(p_values)), X.columns, rotation=90)\n",
    "plt.tight_layout()\n",
    "\n",
    "plt.show()"
   ]
  },
  {
   "cell_type": "code",
   "execution_count": 17,
   "id": "5ee159b3",
   "metadata": {},
   "outputs": [
    {
     "name": "stdout",
     "output_type": "stream",
     "text": [
      "Significant Features:\n",
      "['Adaptability', 'TimeManagement', 'Curiosity', 'Integration', 'Versatality', 'Scheduling', 'Efficiency', 'Multitasking', 'Consistency', 'Participation', 'ExtraActivities', 'Engagement', 'Collaboration', 'Balance', 'Cooperation', 'ConflictResolution', 'Synergy', 'Empathy', 'Resilience', 'Feedback', 'SelfCare', 'Resourcefulness', 'FinancialConstraint', 'Wellness', 'Stability', 'Hardship']\n"
     ]
    }
   ],
   "source": [
    "# Choose a significance level (e.g., 0.001)\n",
    "significance_level = 0.01\n",
    "\n",
    "# Filter significant features based on p-values\n",
    "significant_features = [X.columns[i] for i, p_value in enumerate(p_values) if p_value < significance_level]\n",
    "\n",
    "# Print significant features\n",
    "print(\"Significant Features:\")\n",
    "print(significant_features)"
   ]
  },
  {
   "cell_type": "code",
   "execution_count": 18,
   "id": "c39b944f",
   "metadata": {},
   "outputs": [],
   "source": [
    "data_filtered =df[significant_features + ['Result_Encoded']]\n",
    "\n",
    "# Separate the features and the target variable\n",
    "X_significant = data_filtered.drop('Result_Encoded', axis=1)  # Significant features\n",
    "y_significant = data_filtered['Result_Encoded']  # Target variable"
   ]
  },
  {
   "cell_type": "markdown",
   "id": "e042ba18",
   "metadata": {},
   "source": [
    "## LINEAR REGRESSION"
   ]
  },
  {
   "cell_type": "code",
   "execution_count": 19,
   "id": "2c551b8f",
   "metadata": {},
   "outputs": [
    {
     "name": "stdout",
     "output_type": "stream",
     "text": [
      "Model Accuracy: 0.9344262295081968\n"
     ]
    }
   ],
   "source": [
    "from sklearn.model_selection import train_test_split\n",
    "from sklearn.linear_model import LogisticRegression\n",
    "from sklearn.preprocessing import StandardScaler\n",
    "\n",
    "# Assuming 'X_significant' contains significant features and 'y_significant' is the target variable\n",
    "\n",
    "# Split the data into train and test sets\n",
    "X_train, X_test, y_train, y_test = train_test_split(X_significant, y_significant, test_size=0.3, random_state=42)\n",
    "\n",
    "# Scale the features\n",
    "scaler = StandardScaler()\n",
    "X_train_scaled = scaler.fit_transform(X_train)\n",
    "X_test_scaled = scaler.transform(X_test)\n",
    "\n",
    "# Initialize and train the Logistic Regression model with increased iterations and a different solver\n",
    "model = LogisticRegression(solver='liblinear', max_iter=1000)\n",
    "model.fit(X_train_scaled, y_train)\n",
    "\n",
    "# Evaluate the model on the test set\n",
    "lr_accuracy = model.score(X_test_scaled, y_test)\n",
    "print(f\"Model Accuracy: {lr_accuracy}\")\n"
   ]
  },
  {
   "cell_type": "markdown",
   "id": "8ca35498",
   "metadata": {},
   "source": [
    "## NAIVE BAYES"
   ]
  },
  {
   "cell_type": "code",
   "execution_count": 20,
   "id": "1bb90e97",
   "metadata": {},
   "outputs": [
    {
     "name": "stdout",
     "output_type": "stream",
     "text": [
      "Naive Bayes Model Accuracy on Test Set: 0.8852459016393442\n",
      "Cross-validation Scores: [0.89655172 0.96428571 1.         0.92857143 1.        ]\n",
      "Mean Accuracy from Cross-validation: 0.9578817733990148\n"
     ]
    }
   ],
   "source": [
    "from sklearn.model_selection import train_test_split, cross_val_score\n",
    "from sklearn.naive_bayes import GaussianNB\n",
    "from sklearn.preprocessing import StandardScaler\n",
    "\n",
    "# Assuming 'X_significant' contains significant features and 'y_significant' is the target variable\n",
    "\n",
    "# Split the data into train and test sets\n",
    "X_train, X_test, y_train, y_test = train_test_split(X_significant, y_significant, test_size=0.3, random_state=20)\n",
    "\n",
    "# Scale the features (NB doesn't necessarily require scaling, but for consistency)\n",
    "scaler = StandardScaler()\n",
    "X_train_scaled = scaler.fit_transform(X_train)\n",
    "X_test_scaled = scaler.transform(X_test)\n",
    "\n",
    "# Initialize and train the Gaussian Naive Bayes model\n",
    "nb_model = GaussianNB()\n",
    "nb_model.fit(X_train_scaled, y_train)\n",
    "\n",
    "# Evaluate the Naive Bayes model on the test set\n",
    "nb_accuracy = nb_model.score(X_test_scaled, y_test)\n",
    "print(f\"Naive Bayes Model Accuracy on Test Set: {nb_accuracy}\")\n",
    "\n",
    "# Perform cross-validation to estimate model performance\n",
    "cv_scores = cross_val_score(nb_model, X_train_scaled, y_train, cv=5)  # 5-fold cross-validation\n",
    "print(\"Cross-validation Scores:\", cv_scores)\n",
    "print(\"Mean Accuracy from Cross-validation:\", cv_scores.mean())\n"
   ]
  },
  {
   "cell_type": "markdown",
   "id": "839ac531",
   "metadata": {},
   "source": [
    "## RANDOM FOREST REGRESSOR "
   ]
  },
  {
   "cell_type": "code",
   "execution_count": 21,
   "id": "ccc23f25",
   "metadata": {},
   "outputs": [
    {
     "name": "stdout",
     "output_type": "stream",
     "text": [
      "R^2 Score on Test Set: 0.8617616455696203\n"
     ]
    }
   ],
   "source": [
    "from sklearn.ensemble import RandomForestRegressor\n",
    "from sklearn.model_selection import train_test_split\n",
    "from sklearn.metrics import r2_score\n",
    "\n",
    "# Splitting the significant features and target variable into train and test sets\n",
    "X_train, X_test, y_train, y_test = train_test_split(X_significant, y, test_size=0.3, random_state=42)\n",
    "\n",
    "# Initializing and fitting the Random Forest Regressor\n",
    "rf = RandomForestRegressor(random_state=42)\n",
    "rf.fit(X_train, y_train)\n",
    "\n",
    "# Making predictions on the test set\n",
    "y_pred = rf.predict(X_test)\n",
    "\n",
    "# Calculating R^2 score\n",
    "r2 = r2_score(y_test, y_pred)\n",
    "print(f\"R^2 Score on Test Set: {r2}\")\n"
   ]
  },
  {
   "cell_type": "markdown",
   "id": "baaa7ff8",
   "metadata": {},
   "source": [
    "## RANDOM FOREST CLASSIFIER"
   ]
  },
  {
   "cell_type": "code",
   "execution_count": 22,
   "id": "c1460db4",
   "metadata": {},
   "outputs": [
    {
     "name": "stdout",
     "output_type": "stream",
     "text": [
      "Accuracy on Test Set: 0.9672131147540983\n"
     ]
    }
   ],
   "source": [
    "from sklearn.ensemble import RandomForestClassifier\n",
    "from sklearn.model_selection import train_test_split\n",
    "from sklearn.metrics import accuracy_score\n",
    "\n",
    "# Splitting the significant features and target variable into train and test sets\n",
    "X_train, X_test, y_train, y_test = train_test_split(X_significant, y, test_size=0.3, random_state=42)\n",
    "\n",
    "# Initializing and fitting the Random Forest Classifier\n",
    "rf_classifier = RandomForestClassifier(random_state=42)\n",
    "rf_classifier.fit(X_train, y_train)\n",
    "\n",
    "# Making predictions on the test set\n",
    "y_pred = rf_classifier.predict(X_test)\n",
    "\n",
    "# Calculating accuracy score\n",
    "rf_accuracy = accuracy_score(y_test, y_pred)\n",
    "print(f\"Accuracy on Test Set: {rf_accuracy}\")\n"
   ]
  },
  {
   "cell_type": "markdown",
   "id": "f1f90576",
   "metadata": {},
   "source": [
    "## SVM"
   ]
  },
  {
   "cell_type": "code",
   "execution_count": 23,
   "id": "35397860",
   "metadata": {},
   "outputs": [
    {
     "name": "stdout",
     "output_type": "stream",
     "text": [
      "Accuracy on Test Set: 0.7704918032786885\n"
     ]
    }
   ],
   "source": [
    "from sklearn.svm import SVC\n",
    "from sklearn.model_selection import train_test_split\n",
    "from sklearn.metrics import accuracy_score\n",
    "\n",
    "# Splitting the significant features and target variable into train and test sets\n",
    "X_train, X_test, y_train, y_test = train_test_split(X_significant, y, test_size=0.3, random_state=42)\n",
    "\n",
    "# Initializing and fitting the SVM Classifier with regularization (C=0.1 as an example)\n",
    "svm_classifier = SVC(C=0.1, random_state=42)\n",
    "svm_classifier.fit(X_train, y_train)\n",
    "\n",
    "# Making predictions on the test set\n",
    "y_pred = svm_classifier.predict(X_test)\n",
    "\n",
    "# Calculating accuracy score\n",
    "svm_accuracy = accuracy_score(y_test, y_pred)\n",
    "print(f\"Accuracy on Test Set: {svm_accuracy}\")\n"
   ]
  },
  {
   "cell_type": "code",
   "execution_count": 24,
   "id": "eb346523",
   "metadata": {},
   "outputs": [
    {
     "data": {
      "image/png": "[encoded data removed]",
      "text/plain": [
       "<Figure size 864x648 with 1 Axes>"
      ]
     },
     "metadata": {
      "needs_background": "light"
     },
     "output_type": "display_data"
    }
   ],
   "source": [
    "import matplotlib.pyplot as plt\n",
    "\n",
    "# Sample classifier names and accuracy scores (replace with your actual data)\n",
    "classifier_names = ['LINEAR REGRESSION', 'NAIVE BAYES','RANDOM FOREST REGRESSOR','RANDOM FOREST CLASSIFIER','SVM']\n",
    "accuracy_scores = [lr_accuracy , nb_accuracy , r2 , rf_accuracy , svm_accuracy]\n",
    "\n",
    "# Plotting the bar graph\n",
    "plt.figure(figsize=(12, 9))\n",
    "plt.bar(classifier_names, accuracy_scores, color='skyblue')\n",
    "plt.xlabel('Classifiers')\n",
    "plt.ylabel('Accuracy')\n",
    "plt.title('Classifier Comparison - Accuracy')\n",
    "\n",
    "# Displaying accuracy values on the bars\n",
    "for i, acc in enumerate(accuracy_scores):\n",
    "    plt.text(i, acc, f'{acc:.3f}', ha='center', va='bottom')\n",
    "\n",
    "plt.ylim(0, 1)  # Set the y-axis limit from 0 to 1 for accuracy values\n",
    "plt.xticks(rotation=45)  # Rotate x-axis labels for better readability\n",
    "plt.subplots_adjust(left=0.1, right=0.9, top=2, bottom=0.3)\n",
    "plt.tight_layout()\n",
    "plt.show()\n"
   ]
  },
  {
   "cell_type": "code",
   "execution_count": 25,
   "id": "22427c90",
   "metadata": {},
   "outputs": [
    {
     "name": "stdout",
     "output_type": "stream",
     "text": [
      "R^2 Scores for each fold: [0.96141727 0.93433125 0.95856667 0.95584375 0.99167742 0.95167308\n",
      " 0.93369231 0.96123333 0.974375   0.9958871 ]\n",
      "Mean R^2 Score: 0.961869717347169\n"
     ]
    }
   ],
   "source": [
    "from sklearn.ensemble import RandomForestRegressor\n",
    "from sklearn.model_selection import cross_val_score\n",
    "from sklearn.metrics import r2_score\n",
    "\n",
    "# Assuming X_significant and y are your significant features and target variable\n",
    "# Replace this with your actual data\n",
    "\n",
    "# Initialize the RandomForestRegressor\n",
    "rf = RandomForestRegressor(random_state=42)\n",
    "\n",
    "# Perform k-fold cross-validation\n",
    "# Change cv parameter to the desired number of folds (e.g., cv=5 for 5-fold cross-validation)\n",
    "cv_scores = cross_val_score(rf, X_significant, y, cv=10, scoring='r2')\n",
    "\n",
    "# Print R^2 scores for each fold\n",
    "print(\"R^2 Scores for each fold:\", cv_scores)\n",
    "\n",
    "# Calculate the mean R^2 score\n",
    "mean_r2 = np.mean(cv_scores)\n",
    "print(f\"Mean R^2 Score: {mean_r2}\")\n"
   ]
  },
  {
   "cell_type": "code",
   "execution_count": 26,
   "id": "953e6e19",
   "metadata": {},
   "outputs": [
    {
     "name": "stdout",
     "output_type": "stream",
     "text": [
      "Accuracy Scores for each fold: [0.80487805 0.80487805 0.725      0.55       0.725     ]\n",
      "Mean Accuracy: 0.7219512195121951\n"
     ]
    }
   ],
   "source": [
    "from sklearn.svm import SVC\n",
    "from sklearn.model_selection import cross_val_score\n",
    "from sklearn.model_selection import KFold\n",
    "\n",
    "# Assuming X_significant and y are your significant features and target variable\n",
    "# Replace this with your actual data\n",
    "\n",
    "# Initialize the SVM Classifier\n",
    "svm_classifier = SVC(C=0.1, random_state=42)\n",
    "\n",
    "# Initialize KFold with the desired number of folds\n",
    "kf = KFold(n_splits=5, shuffle=True, random_state=42)\n",
    "\n",
    "# Perform k-fold cross-validation\n",
    "svm_cv_scores = cross_val_score(svm_classifier, X_significant, y, cv=kf, scoring='accuracy')\n",
    "\n",
    "# Print accuracy scores for each fold\n",
    "print(\"Accuracy Scores for each fold:\", svm_cv_scores)\n",
    "\n",
    "# Calculate the mean accuracy score\n",
    "mean_accuracy = svm_cv_scores.mean()\n",
    "print(f\"Mean Accuracy: {mean_accuracy}\")\n"
   ]
  },
  {
   "cell_type": "code",
   "execution_count": 27,
   "id": "91f064ea",
   "metadata": {},
   "outputs": [
    {
     "name": "stdout",
     "output_type": "stream",
     "text": [
      "Accuracy Scores for each fold: [0.95121951 1.         0.95       1.         0.95      ]\n",
      "Mean Accuracy: 0.9702439024390245\n"
     ]
    }
   ],
   "source": [
    "from sklearn.ensemble import RandomForestClassifier\n",
    "from sklearn.model_selection import cross_val_score\n",
    "from sklearn.model_selection import KFold\n",
    "\n",
    "# Assuming X_significant and y are your significant features and target variable\n",
    "# Replace this with your actual data\n",
    "\n",
    "# Initialize the RandomForestClassifier\n",
    "rf_classifier = RandomForestClassifier(random_state=42)\n",
    "\n",
    "# Initialize KFold with the desired number of folds\n",
    "kf = KFold(n_splits=5, shuffle=True, random_state=42)\n",
    "\n",
    "# Perform k-fold cross-validation\n",
    "rf_cv_scores = cross_val_score(rf_classifier, X_significant, y, cv=kf, scoring='accuracy')\n",
    "\n",
    "# Print accuracy scores for each fold\n",
    "print(\"Accuracy Scores for each fold:\", rf_cv_scores)\n",
    "\n",
    "# Calculate the mean accuracy score\n",
    "mean_accuracy = rf_cv_scores.mean()\n",
    "print(f\"Mean Accuracy: {mean_accuracy}\")\n"
   ]
  },
  {
   "cell_type": "code",
   "execution_count": 31,
   "id": "14f624ce",
   "metadata": {},
   "outputs": [
    {
     "name": "stdout",
     "output_type": "stream",
     "text": [
      "Cross-validation scores: [0.9   0.885 0.875 0.83  0.845]\n",
      "Mean Accuracy: 0.8670\n"
     ]
    }
   ],
   "source": [
    "from sklearn.model_selection import cross_val_score\n",
    "from sklearn.linear_model import LogisticRegression\n",
    "from sklearn.preprocessing import StandardScaler\n",
    "from sklearn.datasets import make_classification\n",
    "\n",
    "# Generate synthetic data for demonstration\n",
    "X_significant, y_significant = make_classification(n_samples=1000, n_features=20, n_classes=2, random_state=42)\n",
    "\n",
    "# Scale the features\n",
    "scaler = StandardScaler()\n",
    "X_scaled = scaler.fit_transform(X_significant)\n",
    "\n",
    "# Initialize the Logistic Regression model\n",
    "model = LogisticRegression(solver='liblinear', max_iter=1000)\n",
    "\n",
    "# Perform cross-validation\n",
    "cv_scores = cross_val_score(model, X_scaled, y_significant, cv=5)  # Use 5-fold cross-validation\n",
    "\n",
    "# Print the cross-validation scores\n",
    "print(\"Cross-validation scores:\", cv_scores)\n",
    "print(f\"Mean Accuracy: {cv_scores.mean():.4f}\")\n"
   ]
  },
  {
   "cell_type": "code",
   "execution_count": 32,
   "id": "a41a8d44",
   "metadata": {},
   "outputs": [
    {
     "data": {
      "image/png": "[encoded data removed]",
      "text/plain": [
       "<Figure size 720x432 with 1 Axes>"
      ]
     },
     "metadata": {
      "needs_background": "light"
     },
     "output_type": "display_data"
    }
   ],
   "source": [
    "import matplotlib.pyplot as plt\n",
    "\n",
    "# Provided data for cross-validated scores and scores without cross-validation\n",
    "cv_models = [\n",
    "    'Random Forest Regressor CV',\n",
    "    'SVM CV',\n",
    "    'Random Forest Classifier CV',\n",
    "    'Linear Regression with CV'\n",
    "]\n",
    "cv_scores = [\n",
    "    0.961869717347169,\n",
    "    0.7219512195121951,\n",
    "    0.9702439024390245,\n",
    "    0.8670\n",
    "]\n",
    "\n",
    "no_cv_models = [\n",
    "    'RF Regressor without CV',\n",
    "    'SVM without CV',\n",
    "    'RF Classifier without CV',\n",
    "    'Linear Regression without CV'\n",
    "]\n",
    "no_cv_scores = [\n",
    "    0.8617616455696203,\n",
    "    0.7704918032786885,\n",
    "    0.9672131147540983,\n",
    "    0.9344262295081968\n",
    "]\n",
    "\n",
    "# Creating line graphs for cross-validated and non cross-validated scores\n",
    "plt.figure(figsize=(10, 6))\n",
    "\n",
    "plt.plot(cv_models, cv_scores, marker='o', linestyle='-', color='b', label='CV Scores')\n",
    "plt.plot(no_cv_models, no_cv_scores, marker='o', linestyle='-', color='r', label='No CV Scores')\n",
    "\n",
    "plt.title('Comparison of Model Performance')\n",
    "plt.xlabel('Models')\n",
    "plt.ylabel('Performance')\n",
    "plt.xticks(rotation=45, ha='right')\n",
    "plt.legend()\n",
    "plt.grid(True)\n",
    "plt.tight_layout()\n",
    "plt.show()\n"
   ]
  },
  {
   "cell_type": "code",
   "execution_count": null,
   "id": "2c0adecd",
   "metadata": {},
   "outputs": [],
   "source": []
  }
 ],
 "metadata": {
  "kernelspec": {
   "display_name": "Python 3",
   "language": "python",
   "name": "python3"
  },
  "language_info": {
   "codemirror_mode": {
    "name": "ipython",
    "version": 3
   },
   "file_extension": ".py",
   "mimetype": "text/x-python",
   "name": "python",
   "nbconvert_exporter": "python",
   "pygments_lexer": "ipython3",
   "version": "3.8.8"
  }
 },
 "nbformat": 4,
 "nbformat_minor": 5
}
